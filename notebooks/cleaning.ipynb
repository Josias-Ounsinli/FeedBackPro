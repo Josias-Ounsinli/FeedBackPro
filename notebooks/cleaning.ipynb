{
 "cells": [
  {
   "cell_type": "code",
   "execution_count": 4,
   "metadata": {},
   "outputs": [],
   "source": [
    "\"\"\" Needed packages \"\"\"\n",
    "import os\n",
    "import sys\n",
    "import textwrap\n",
    "\n",
    "sys.path.append(os.path.abspath(os.path.join(\"../scripts\")))\n",
    "\n",
    "from extractor import HuggingFaceDataLoad\n",
    "\n",
    "\n",
    "DATASET_NAME = 'amazon_reviews_multi'\n",
    "LANG = ['fr', 'en']\n",
    "\n",
    "loader_fr, loader_en = [HuggingFaceDataLoad(DATASET_NAME, lang) for lang in LANG]"
   ]
  },
  {
   "attachments": {},
   "cell_type": "markdown",
   "metadata": {},
   "source": [
    "### Explore French version"
   ]
  },
  {
   "cell_type": "code",
   "execution_count": 5,
   "metadata": {},
   "outputs": [
    {
     "name": "stdout",
     "output_type": "stream",
     "text": [
      "Loading dataset description\n",
      "\n",
      "Dataset description loaded in ./data/source/dataset_desc_fr.txt\n"
     ]
    }
   ],
   "source": [
    "# Get data description\n",
    "loader_fr.inspectdatadescription()"
   ]
  },
  {
   "attachments": {},
   "cell_type": "markdown",
   "metadata": {},
   "source": [
    "### Explore English version"
   ]
  },
  {
   "cell_type": "code",
   "execution_count": 9,
   "metadata": {},
   "outputs": [],
   "source": [
    "with open('../data/source/dataset_desc_fr.txt', 'r') as rd:\n",
    "    y = rd.read()"
   ]
  },
  {
   "cell_type": "code",
   "execution_count": 10,
   "metadata": {},
   "outputs": [
    {
     "name": "stdout",
     "output_type": "stream",
     "text": [
      "We provide an Amazon product reviews dataset for multilingual text\n",
      "classification. The dataset contains reviews in English, Japanese, German,\n",
      "French, Chinese and Spanish, collected between November 1, 2015 and November 1,\n",
      "2019. Each record in the dataset contains the review text, the review title, the\n",
      "star rating, an anonymized reviewer ID, an anonymized product ID and the coarse-\n",
      "grained product category (e.g. ‘books’, ‘appliances’, etc.) The corpus is\n",
      "balanced across stars, so each star rating constitutes 20% of the reviews in\n",
      "each language.  For each language, there are 200,000, 5,000 and 5,000 reviews in\n",
      "the training, development and test sets respectively. The maximum number of\n",
      "reviews per reviewer is 20 and the maximum number of reviews per product is 20.\n",
      "All reviews are truncated after 2,000 characters, and all reviews are at least\n",
      "20 characters long.  Note that the language of a review does not necessarily\n",
      "match the language of its marketplace (e.g. reviews from amazon.de are primarily\n",
      "written in German, but could also be written in English, etc.). For this reason,\n",
      "we applied a language detection algorithm based on the work in Bojanowski et al.\n",
      "(2017) to determine the language of the review text and we removed reviews that\n",
      "were not written in the expected language.\n"
     ]
    }
   ],
   "source": [
    "wrapped_text = textwrap.fill(y, width=80)\n",
    "print(wrapped_text)"
   ]
  },
  {
   "cell_type": "code",
   "execution_count": null,
   "metadata": {},
   "outputs": [],
   "source": []
  }
 ],
 "metadata": {
  "kernelspec": {
   "display_name": "venv",
   "language": "python",
   "name": "python3"
  },
  "language_info": {
   "codemirror_mode": {
    "name": "ipython",
    "version": 3
   },
   "file_extension": ".py",
   "mimetype": "text/x-python",
   "name": "python",
   "nbconvert_exporter": "python",
   "pygments_lexer": "ipython3",
   "version": "3.10.6"
  },
  "orig_nbformat": 4
 },
 "nbformat": 4,
 "nbformat_minor": 2
}
