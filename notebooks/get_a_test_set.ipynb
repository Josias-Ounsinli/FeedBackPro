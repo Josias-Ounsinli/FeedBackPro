{
 "cells": [
  {
   "cell_type": "code",
   "execution_count": 16,
   "metadata": {},
   "outputs": [],
   "source": [
    "import pandas as pd\n",
    "from sklearn.utils import shuffle\n",
    "import string\n",
    "import re"
   ]
  },
  {
   "cell_type": "code",
   "execution_count": 2,
   "metadata": {},
   "outputs": [],
   "source": [
    "french = pd.read_csv('../data/source/french.csv')\n",
    "english = pd.read_csv('../data/source/english.csv')"
   ]
  },
  {
   "cell_type": "code",
   "execution_count": 3,
   "metadata": {},
   "outputs": [],
   "source": [
    "def n_sampling(df:pd.DataFrame, nb):\n",
    "    \"\"\"\n",
    "    Sample a dataframe based on given conditions\n",
    "    \"\"\"\n",
    "    dataset = pd.DataFrame()\n",
    "    for score in df.stars.value_counts().index:\n",
    "        mask = df.stars == score\n",
    "        sample = shuffle(df[mask], random_state=1).sample(nb)\n",
    "        dataset = pd.concat([dataset, sample])\n",
    "    \n",
    "    dataset = shuffle(dataset)\n",
    "    return dataset"
   ]
  },
  {
   "cell_type": "code",
   "execution_count": 4,
   "metadata": {},
   "outputs": [],
   "source": [
    "df1 = n_sampling(french, 500)\n",
    "df2 = n_sampling(english, 500)"
   ]
  },
  {
   "cell_type": "code",
   "execution_count": 5,
   "metadata": {},
   "outputs": [],
   "source": [
    "def french_scores(col):\n",
    "    if col == 1 or col == 2:\n",
    "        result = 'non satisfied'\n",
    "    elif col == 3:\n",
    "        result = 'mixed'\n",
    "    else:\n",
    "        result = 'satisfied'\n",
    "\n",
    "    return result\n",
    "\n",
    "\n",
    "def english_scores(col):\n",
    "    if col == 1:\n",
    "        result = 'non satisfied'\n",
    "    elif col == 2:\n",
    "        result = 'mixed'\n",
    "    else:\n",
    "        result = 'satisfied'\n",
    "\n",
    "    return result"
   ]
  },
  {
   "cell_type": "code",
   "execution_count": 6,
   "metadata": {},
   "outputs": [],
   "source": [
    "df1['opinion'] = df1['stars'].apply(french_scores)\n",
    "\n",
    "df2['opinion'] = df2['stars'].apply(english_scores)"
   ]
  },
  {
   "cell_type": "code",
   "execution_count": 7,
   "metadata": {},
   "outputs": [
    {
     "data": {
      "text/plain": [
       "opinion\n",
       "non satisfied    1000\n",
       "satisfied        1000\n",
       "mixed             500\n",
       "Name: count, dtype: int64"
      ]
     },
     "execution_count": 7,
     "metadata": {},
     "output_type": "execute_result"
    }
   ],
   "source": [
    "df1['opinion'].value_counts()"
   ]
  },
  {
   "cell_type": "code",
   "execution_count": 8,
   "metadata": {},
   "outputs": [
    {
     "data": {
      "text/plain": [
       "opinion\n",
       "satisfied        1500\n",
       "mixed             500\n",
       "non satisfied     500\n",
       "Name: count, dtype: int64"
      ]
     },
     "execution_count": 8,
     "metadata": {},
     "output_type": "execute_result"
    }
   ],
   "source": [
    "df2['opinion'].value_counts()"
   ]
  },
  {
   "cell_type": "code",
   "execution_count": 9,
   "metadata": {},
   "outputs": [],
   "source": [
    "grpfr1 = df1[df1['opinion'] == 'satisfied'].sample(500)\n",
    "grpfr2 = df1[df1['opinion'] == 'non satisfied'].sample(500)\n",
    "grpfr3 = df1[df1['opinion'] == 'mixed']\n",
    "\n",
    "grpen1 = df2[df2['opinion'] == 'satisfied'].sample(500)\n",
    "grpen2 = df2[df2['opinion'] == 'non satisfied']\n",
    "grpen3 = df2[df2['opinion'] == 'mixed']\n",
    "\n",
    "newdata = pd.concat([grpfr1, grpfr2, grpfr3, grpen1, grpen2, grpen3], ignore_index=True)\n",
    "newdata = shuffle(newdata)"
   ]
  },
  {
   "cell_type": "code",
   "execution_count": 10,
   "metadata": {},
   "outputs": [
    {
     "data": {
      "text/plain": [
       "opinion\n",
       "mixed            1000\n",
       "non satisfied    1000\n",
       "satisfied        1000\n",
       "Name: count, dtype: int64"
      ]
     },
     "execution_count": 10,
     "metadata": {},
     "output_type": "execute_result"
    }
   ],
   "source": [
    "newdata['opinion'].value_counts()"
   ]
  },
  {
   "cell_type": "code",
   "execution_count": 11,
   "metadata": {},
   "outputs": [
    {
     "data": {
      "text/plain": [
       "language\n",
       "en    1500\n",
       "fr    1500\n",
       "Name: count, dtype: int64"
      ]
     },
     "execution_count": 11,
     "metadata": {},
     "output_type": "execute_result"
    }
   ],
   "source": [
    "newdata['language'].value_counts()"
   ]
  },
  {
   "cell_type": "code",
   "execution_count": 12,
   "metadata": {},
   "outputs": [],
   "source": [
    "desc_length = []\n",
    "descs = []\n",
    "\n",
    "for line in newdata.review_body:\n",
    "    desc_length.append(len(line))\n",
    "    descs.append(line)\n",
    "\n",
    "newdata['desc_length'] = desc_length\n",
    "\n",
    "\n",
    "title_length = []\n",
    "titles = []\n",
    "\n",
    "for line in newdata.review_title:\n",
    "    title_length.append(len(line))\n",
    "    titles.append(line)\n",
    "\n",
    "newdata['title_length'] = title_length\n",
    "\n",
    "comments = []\n",
    "for i in range(len(descs)):\n",
    "    comments.append(str(titles[i] + ' ' + str(descs[i])))\n",
    "                \n",
    "newdata['comment'] = comments"
   ]
  },
  {
   "cell_type": "code",
   "execution_count": 13,
   "metadata": {},
   "outputs": [],
   "source": [
    "newdata = newdata.rename(columns={'stars': 'notes', 'review_body': 'body', 'review_title': 'title', 'language': 'lang', 'product_category':'product', 'desc_length': 'bodylen', 'title_length': 'titlelen'})"
   ]
  },
  {
   "cell_type": "code",
   "execution_count": 14,
   "metadata": {},
   "outputs": [],
   "source": [
    "newdata.reset_index(drop=True, inplace=True)"
   ]
  },
  {
   "cell_type": "code",
   "execution_count": 17,
   "metadata": {},
   "outputs": [],
   "source": [
    "def remove_punctuation(text):\n",
    "    translation_table = str.maketrans(\"\", \"\", string.punctuation)\n",
    "    text_without_punctuation = text.translate(translation_table)\n",
    "    return text_without_punctuation\n",
    "\n",
    "newdata['comment'] = newdata['comment'].apply(remove_punctuation)"
   ]
  },
  {
   "cell_type": "code",
   "execution_count": 18,
   "metadata": {},
   "outputs": [],
   "source": [
    "newdata['comment'] = newdata['comment'].str.lower()\n",
    "\n",
    "def remove_emoji(strings):\n",
    "    emoji_pattern = re.compile(\"[\"\n",
    "                           u\"\\U0001F600-\\U0001F64F\"  # emoticons\n",
    "                           u\"\\U0001F300-\\U0001F5FF\"  # symbols & pictographs\n",
    "                           u\"\\U0001F680-\\U0001F6FF\"  # transport & map symbols\n",
    "                           u\"\\U0001F1E0-\\U0001F1FF\"  # flags (iOS)\n",
    "                           u\"\\U00002702-\\U000027B0\"\n",
    "                           u\"\\U000024C2-\\U0001F251\"\n",
    "                           \"]+\", flags=re.UNICODE)\n",
    "    return emoji_pattern.sub(r'', strings)\n",
    "\n",
    "newdata['comment'] = newdata['comment'].apply(remove_emoji)"
   ]
  },
  {
   "cell_type": "code",
   "execution_count": 19,
   "metadata": {},
   "outputs": [],
   "source": [
    "map = {'non satisfied': 0, 'mixed': 1, 'satisfied': 2}\n",
    "\n",
    "newdata['score'] = newdata['opinion'].map(lambda x: map[x])"
   ]
  },
  {
   "cell_type": "code",
   "execution_count": 20,
   "metadata": {},
   "outputs": [
    {
     "data": {
      "text/html": [
       "<div>\n",
       "<style scoped>\n",
       "    .dataframe tbody tr th:only-of-type {\n",
       "        vertical-align: middle;\n",
       "    }\n",
       "\n",
       "    .dataframe tbody tr th {\n",
       "        vertical-align: top;\n",
       "    }\n",
       "\n",
       "    .dataframe thead th {\n",
       "        text-align: right;\n",
       "    }\n",
       "</style>\n",
       "<table border=\"1\" class=\"dataframe\">\n",
       "  <thead>\n",
       "    <tr style=\"text-align: right;\">\n",
       "      <th></th>\n",
       "      <th>review_id</th>\n",
       "      <th>product_id</th>\n",
       "      <th>reviewer_id</th>\n",
       "      <th>notes</th>\n",
       "      <th>body</th>\n",
       "      <th>title</th>\n",
       "      <th>lang</th>\n",
       "      <th>product</th>\n",
       "      <th>opinion</th>\n",
       "      <th>bodylen</th>\n",
       "      <th>titlelen</th>\n",
       "      <th>comment</th>\n",
       "      <th>score</th>\n",
       "    </tr>\n",
       "  </thead>\n",
       "  <tbody>\n",
       "    <tr>\n",
       "      <th>0</th>\n",
       "      <td>en_0947109</td>\n",
       "      <td>product_en_0690907</td>\n",
       "      <td>reviewer_en_0426954</td>\n",
       "      <td>2</td>\n",
       "      <td>This came and broke apart in the box. Thankful...</td>\n",
       "      <td>This came and broke apart in the box. Thankful...</td>\n",
       "      <td>en</td>\n",
       "      <td>home</td>\n",
       "      <td>mixed</td>\n",
       "      <td>139</td>\n",
       "      <td>52</td>\n",
       "      <td>this came and broke apart in the box thankfull...</td>\n",
       "      <td>1</td>\n",
       "    </tr>\n",
       "    <tr>\n",
       "      <th>1</th>\n",
       "      <td>en_0815926</td>\n",
       "      <td>product_en_0890680</td>\n",
       "      <td>reviewer_en_0412863</td>\n",
       "      <td>1</td>\n",
       "      <td>Smells pretty good but I won't be using it bec...</td>\n",
       "      <td>Fell apart in shipping</td>\n",
       "      <td>en</td>\n",
       "      <td>grocery</td>\n",
       "      <td>non satisfied</td>\n",
       "      <td>168</td>\n",
       "      <td>22</td>\n",
       "      <td>fell apart in shipping smells pretty good but ...</td>\n",
       "      <td>0</td>\n",
       "    </tr>\n",
       "    <tr>\n",
       "      <th>2</th>\n",
       "      <td>en_0961690</td>\n",
       "      <td>product_en_0622829</td>\n",
       "      <td>reviewer_en_0138790</td>\n",
       "      <td>5</td>\n",
       "      <td>Great server cue and delivery</td>\n",
       "      <td>Delivery quick and easy</td>\n",
       "      <td>en</td>\n",
       "      <td>beauty</td>\n",
       "      <td>satisfied</td>\n",
       "      <td>29</td>\n",
       "      <td>23</td>\n",
       "      <td>delivery quick and easy great server cue and d...</td>\n",
       "      <td>2</td>\n",
       "    </tr>\n",
       "    <tr>\n",
       "      <th>3</th>\n",
       "      <td>en_0457731</td>\n",
       "      <td>product_en_0574275</td>\n",
       "      <td>reviewer_en_0687718</td>\n",
       "      <td>1</td>\n",
       "      <td>Part of the front of the mug was all blurred o...</td>\n",
       "      <td>Bad print job I guess</td>\n",
       "      <td>en</td>\n",
       "      <td>kitchen</td>\n",
       "      <td>non satisfied</td>\n",
       "      <td>133</td>\n",
       "      <td>21</td>\n",
       "      <td>bad print job i guess part of the front of the...</td>\n",
       "      <td>0</td>\n",
       "    </tr>\n",
       "    <tr>\n",
       "      <th>4</th>\n",
       "      <td>en_0102544</td>\n",
       "      <td>product_en_0773298</td>\n",
       "      <td>reviewer_en_0060721</td>\n",
       "      <td>4</td>\n",
       "      <td>Two of my favorite authors back together again...</td>\n",
       "      <td>Two of my favorite authors back together again...</td>\n",
       "      <td>en</td>\n",
       "      <td>digital_ebook_purchase</td>\n",
       "      <td>satisfied</td>\n",
       "      <td>2122</td>\n",
       "      <td>62</td>\n",
       "      <td>two of my favorite authors back together again...</td>\n",
       "      <td>2</td>\n",
       "    </tr>\n",
       "  </tbody>\n",
       "</table>\n",
       "</div>"
      ],
      "text/plain": [
       "    review_id          product_id          reviewer_id  notes  \\\n",
       "0  en_0947109  product_en_0690907  reviewer_en_0426954      2   \n",
       "1  en_0815926  product_en_0890680  reviewer_en_0412863      1   \n",
       "2  en_0961690  product_en_0622829  reviewer_en_0138790      5   \n",
       "3  en_0457731  product_en_0574275  reviewer_en_0687718      1   \n",
       "4  en_0102544  product_en_0773298  reviewer_en_0060721      4   \n",
       "\n",
       "                                                body  \\\n",
       "0  This came and broke apart in the box. Thankful...   \n",
       "1  Smells pretty good but I won't be using it bec...   \n",
       "2                      Great server cue and delivery   \n",
       "3  Part of the front of the mug was all blurred o...   \n",
       "4  Two of my favorite authors back together again...   \n",
       "\n",
       "                                               title lang  \\\n",
       "0  This came and broke apart in the box. Thankful...   en   \n",
       "1                             Fell apart in shipping   en   \n",
       "2                            Delivery quick and easy   en   \n",
       "3                              Bad print job I guess   en   \n",
       "4  Two of my favorite authors back together again...   en   \n",
       "\n",
       "                  product        opinion  bodylen  titlelen  \\\n",
       "0                    home          mixed      139        52   \n",
       "1                 grocery  non satisfied      168        22   \n",
       "2                  beauty      satisfied       29        23   \n",
       "3                 kitchen  non satisfied      133        21   \n",
       "4  digital_ebook_purchase      satisfied     2122        62   \n",
       "\n",
       "                                             comment  score  \n",
       "0  this came and broke apart in the box thankfull...      1  \n",
       "1  fell apart in shipping smells pretty good but ...      0  \n",
       "2  delivery quick and easy great server cue and d...      2  \n",
       "3  bad print job i guess part of the front of the...      0  \n",
       "4  two of my favorite authors back together again...      2  "
      ]
     },
     "execution_count": 20,
     "metadata": {},
     "output_type": "execute_result"
    }
   ],
   "source": [
    "newdata.head()"
   ]
  },
  {
   "cell_type": "code",
   "execution_count": 22,
   "metadata": {},
   "outputs": [],
   "source": [
    "newdata.to_csv('../data/cleaned/test.csv')"
   ]
  },
  {
   "attachments": {},
   "cell_type": "markdown",
   "metadata": {},
   "source": [
    "### Features : body and title merged in comment"
   ]
  },
  {
   "cell_type": "code",
   "execution_count": null,
   "metadata": {},
   "outputs": [],
   "source": []
  }
 ],
 "metadata": {
  "kernelspec": {
   "display_name": "venv",
   "language": "python",
   "name": "python3"
  },
  "language_info": {
   "codemirror_mode": {
    "name": "ipython",
    "version": 3
   },
   "file_extension": ".py",
   "mimetype": "text/x-python",
   "name": "python",
   "nbconvert_exporter": "python",
   "pygments_lexer": "ipython3",
   "version": "3.10.6"
  },
  "orig_nbformat": 4
 },
 "nbformat": 4,
 "nbformat_minor": 2
}
