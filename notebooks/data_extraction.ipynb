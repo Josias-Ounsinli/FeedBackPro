{
 "cells": [
  {
   "cell_type": "code",
   "execution_count": 2,
   "metadata": {},
   "outputs": [],
   "source": [
    "\"\"\" Needed packages \"\"\"\n",
    "import os\n",
    "import sys\n",
    "import textwrap\n",
    "import numpy as np\n",
    "import pandas as pd\n",
    "from sklearn.utils import shuffle\n",
    "\n",
    "sys.path.append(os.path.abspath(os.path.join(\"../scripts\")))\n",
    "\n",
    "from extractor import HuggingFaceDataLoad"
   ]
  },
  {
   "cell_type": "code",
   "execution_count": 3,
   "metadata": {},
   "outputs": [],
   "source": [
    "DATASET_NAME = 'amazon_reviews_multi'\n",
    "LANG = ['fr', 'en']\n",
    "\n",
    "loader_fr, loader_en = [HuggingFaceDataLoad(DATASET_NAME, lang) for lang in LANG]"
   ]
  },
  {
   "attachments": {},
   "cell_type": "markdown",
   "metadata": {},
   "source": [
    "### Explore French version"
   ]
  },
  {
   "cell_type": "code",
   "execution_count": 4,
   "metadata": {},
   "outputs": [
    {
     "name": "stdout",
     "output_type": "stream",
     "text": [
      "Loading dataset description\n",
      "\n",
      "Dataset description loaded in ./data/source/dataset_desc_fr.txt\n"
     ]
    }
   ],
   "source": [
    "# Get data description\n",
    "loader_fr.inspectdatadescription()"
   ]
  },
  {
   "cell_type": "code",
   "execution_count": 5,
   "metadata": {},
   "outputs": [
    {
     "name": "stdout",
     "output_type": "stream",
     "text": [
      "We provide an Amazon product reviews dataset for multilingual text\n",
      "classification. The dataset contains reviews in English, Japanese, German,\n",
      "French, Chinese and Spanish, collected between November 1, 2015 and November 1,\n",
      "2019. Each record in the dataset contains the review text, the review title, the\n",
      "star rating, an anonymized reviewer ID, an anonymized product ID and the coarse-\n",
      "grained product category (e.g. ‘books’, ‘appliances’, etc.) The corpus is\n",
      "balanced across stars, so each star rating constitutes 20% of the reviews in\n",
      "each language.  For each language, there are 200,000, 5,000 and 5,000 reviews in\n",
      "the training, development and test sets respectively. The maximum number of\n",
      "reviews per reviewer is 20 and the maximum number of reviews per product is 20.\n",
      "All reviews are truncated after 2,000 characters, and all reviews are at least\n",
      "20 characters long.  Note that the language of a review does not necessarily\n",
      "match the language of its marketplace (e.g. reviews from amazon.de are primarily\n",
      "written in German, but could also be written in English, etc.). For this reason,\n",
      "we applied a language detection algorithm based on the work in Bojanowski et al.\n",
      "(2017) to determine the language of the review text and we removed reviews that\n",
      "were not written in the expected language.\n"
     ]
    }
   ],
   "source": [
    "# Read description\n",
    "with open('../data/source/dataset_desc_fr.txt', 'r') as file:\n",
    "    fr_desc = file.read()\n",
    "print(textwrap.fill(fr_desc, width=80))"
   ]
  },
  {
   "cell_type": "code",
   "execution_count": 6,
   "metadata": {},
   "outputs": [
    {
     "data": {
      "text/plain": [
       "{'review_id': Value(dtype='string', id=None),\n",
       " 'product_id': Value(dtype='string', id=None),\n",
       " 'reviewer_id': Value(dtype='string', id=None),\n",
       " 'stars': Value(dtype='int32', id=None),\n",
       " 'review_body': Value(dtype='string', id=None),\n",
       " 'review_title': Value(dtype='string', id=None),\n",
       " 'language': Value(dtype='string', id=None),\n",
       " 'product_category': Value(dtype='string', id=None)}"
      ]
     },
     "execution_count": 6,
     "metadata": {},
     "output_type": "execute_result"
    }
   ],
   "source": [
    "# Get features\n",
    "fr_features = loader_fr.inspectdatafeatures()\n",
    "fr_features"
   ]
  },
  {
   "cell_type": "code",
   "execution_count": 7,
   "metadata": {},
   "outputs": [
    {
     "name": "stderr",
     "output_type": "stream",
     "text": [
      "Found cached dataset amazon_reviews_multi (/home/jds98/.cache/huggingface/datasets/amazon_reviews_multi/fr/1.0.0/724e94f4b0c6c405ce7e476a6c5ef4f87db30799ad49f765094cf9770e0f7609)\n"
     ]
    }
   ],
   "source": [
    "# Get data\n",
    "data_fr = loader_fr.getdata('train')"
   ]
  },
  {
   "cell_type": "code",
   "execution_count": 8,
   "metadata": {},
   "outputs": [
    {
     "data": {
      "text/plain": [
       "datasets.arrow_dataset.Dataset"
      ]
     },
     "execution_count": 8,
     "metadata": {},
     "output_type": "execute_result"
    }
   ],
   "source": [
    "type(data_fr)"
   ]
  },
  {
   "cell_type": "code",
   "execution_count": 9,
   "metadata": {},
   "outputs": [
    {
     "name": "stdout",
     "output_type": "stream",
     "text": [
      "(200000, 8)\n"
     ]
    },
    {
     "data": {
      "text/html": [
       "<div>\n",
       "<style scoped>\n",
       "    .dataframe tbody tr th:only-of-type {\n",
       "        vertical-align: middle;\n",
       "    }\n",
       "\n",
       "    .dataframe tbody tr th {\n",
       "        vertical-align: top;\n",
       "    }\n",
       "\n",
       "    .dataframe thead th {\n",
       "        text-align: right;\n",
       "    }\n",
       "</style>\n",
       "<table border=\"1\" class=\"dataframe\">\n",
       "  <thead>\n",
       "    <tr style=\"text-align: right;\">\n",
       "      <th></th>\n",
       "      <th>review_id</th>\n",
       "      <th>product_id</th>\n",
       "      <th>reviewer_id</th>\n",
       "      <th>stars</th>\n",
       "      <th>review_body</th>\n",
       "      <th>review_title</th>\n",
       "      <th>language</th>\n",
       "      <th>product_category</th>\n",
       "    </tr>\n",
       "  </thead>\n",
       "  <tbody>\n",
       "    <tr>\n",
       "      <th>0</th>\n",
       "      <td>fr_0424335</td>\n",
       "      <td>product_fr_0297678</td>\n",
       "      <td>reviewer_fr_0961886</td>\n",
       "      <td>1</td>\n",
       "      <td>A déconseiller - Article n'a fonctionné qu'une...</td>\n",
       "      <td>Brumisateur à pompe</td>\n",
       "      <td>fr</td>\n",
       "      <td>beauty</td>\n",
       "    </tr>\n",
       "    <tr>\n",
       "      <th>1</th>\n",
       "      <td>fr_0452615</td>\n",
       "      <td>product_fr_0613288</td>\n",
       "      <td>reviewer_fr_0857499</td>\n",
       "      <td>1</td>\n",
       "      <td>Si vous voulez être déçu achetez le produit ! ...</td>\n",
       "      <td>Insatisfaisant</td>\n",
       "      <td>fr</td>\n",
       "      <td>baby_product</td>\n",
       "    </tr>\n",
       "    <tr>\n",
       "      <th>2</th>\n",
       "      <td>fr_0407673</td>\n",
       "      <td>product_fr_0571250</td>\n",
       "      <td>reviewer_fr_0383240</td>\n",
       "      <td>1</td>\n",
       "      <td>Écran de mauvaise qualité, car il s'use en peu...</td>\n",
       "      <td>Ne recommande pas</td>\n",
       "      <td>fr</td>\n",
       "      <td>pc</td>\n",
       "    </tr>\n",
       "    <tr>\n",
       "      <th>3</th>\n",
       "      <td>fr_0579191</td>\n",
       "      <td>product_fr_0030168</td>\n",
       "      <td>reviewer_fr_0729693</td>\n",
       "      <td>1</td>\n",
       "      <td>Cet engin ne sert à rien les sons sont pourris...</td>\n",
       "      <td>A éviter!</td>\n",
       "      <td>fr</td>\n",
       "      <td>musical_instruments</td>\n",
       "    </tr>\n",
       "    <tr>\n",
       "      <th>4</th>\n",
       "      <td>fr_0931533</td>\n",
       "      <td>product_fr_0468261</td>\n",
       "      <td>reviewer_fr_0734066</td>\n",
       "      <td>1</td>\n",
       "      <td>Très beau produit mais la grue n'a pas fonctio...</td>\n",
       "      <td>Déçue</td>\n",
       "      <td>fr</td>\n",
       "      <td>toy</td>\n",
       "    </tr>\n",
       "  </tbody>\n",
       "</table>\n",
       "</div>"
      ],
      "text/plain": [
       "    review_id          product_id          reviewer_id  stars  \\\n",
       "0  fr_0424335  product_fr_0297678  reviewer_fr_0961886      1   \n",
       "1  fr_0452615  product_fr_0613288  reviewer_fr_0857499      1   \n",
       "2  fr_0407673  product_fr_0571250  reviewer_fr_0383240      1   \n",
       "3  fr_0579191  product_fr_0030168  reviewer_fr_0729693      1   \n",
       "4  fr_0931533  product_fr_0468261  reviewer_fr_0734066      1   \n",
       "\n",
       "                                         review_body         review_title  \\\n",
       "0  A déconseiller - Article n'a fonctionné qu'une...  Brumisateur à pompe   \n",
       "1  Si vous voulez être déçu achetez le produit ! ...       Insatisfaisant   \n",
       "2  Écran de mauvaise qualité, car il s'use en peu...    Ne recommande pas   \n",
       "3  Cet engin ne sert à rien les sons sont pourris...            A éviter!   \n",
       "4  Très beau produit mais la grue n'a pas fonctio...                Déçue   \n",
       "\n",
       "  language     product_category  \n",
       "0       fr               beauty  \n",
       "1       fr         baby_product  \n",
       "2       fr                   pc  \n",
       "3       fr  musical_instruments  \n",
       "4       fr                  toy  "
      ]
     },
     "execution_count": 9,
     "metadata": {},
     "output_type": "execute_result"
    }
   ],
   "source": [
    "df1 = data_fr.to_pandas()\n",
    "print(df1.shape)\n",
    "df1.head()"
   ]
  },
  {
   "cell_type": "code",
   "execution_count": 10,
   "metadata": {},
   "outputs": [],
   "source": [
    "df1.to_csv('../data/source/french.csv', index=False)"
   ]
  },
  {
   "attachments": {},
   "cell_type": "markdown",
   "metadata": {},
   "source": [
    "### Explore English version"
   ]
  },
  {
   "cell_type": "code",
   "execution_count": 11,
   "metadata": {},
   "outputs": [
    {
     "name": "stdout",
     "output_type": "stream",
     "text": [
      "Loading dataset description\n",
      "\n",
      "Dataset description loaded in ./data/source/dataset_desc_en.txt\n"
     ]
    }
   ],
   "source": [
    "# Get data description\n",
    "loader_en.inspectdatadescription()"
   ]
  },
  {
   "cell_type": "code",
   "execution_count": 12,
   "metadata": {},
   "outputs": [
    {
     "name": "stdout",
     "output_type": "stream",
     "text": [
      "We provide an Amazon product reviews dataset for multilingual text\n",
      "classification. The dataset contains reviews in English, Japanese, German,\n",
      "French, Chinese and Spanish, collected between November 1, 2015 and November 1,\n",
      "2019. Each record in the dataset contains the review text, the review title, the\n",
      "star rating, an anonymized reviewer ID, an anonymized product ID and the coarse-\n",
      "grained product category (e.g. ‘books’, ‘appliances’, etc.) The corpus is\n",
      "balanced across stars, so each star rating constitutes 20% of the reviews in\n",
      "each language.  For each language, there are 200,000, 5,000 and 5,000 reviews in\n",
      "the training, development and test sets respectively. The maximum number of\n",
      "reviews per reviewer is 20 and the maximum number of reviews per product is 20.\n",
      "All reviews are truncated after 2,000 characters, and all reviews are at least\n",
      "20 characters long.  Note that the language of a review does not necessarily\n",
      "match the language of its marketplace (e.g. reviews from amazon.de are primarily\n",
      "written in German, but could also be written in English, etc.). For this reason,\n",
      "we applied a language detection algorithm based on the work in Bojanowski et al.\n",
      "(2017) to determine the language of the review text and we removed reviews that\n",
      "were not written in the expected language.\n"
     ]
    }
   ],
   "source": [
    "# Read description\n",
    "with open('../data/source/dataset_desc_en.txt', 'r') as file:\n",
    "    en_desc = file.read()\n",
    "print(textwrap.fill(en_desc, width=80))"
   ]
  },
  {
   "cell_type": "code",
   "execution_count": 13,
   "metadata": {},
   "outputs": [
    {
     "data": {
      "text/plain": [
       "{'review_id': Value(dtype='string', id=None),\n",
       " 'product_id': Value(dtype='string', id=None),\n",
       " 'reviewer_id': Value(dtype='string', id=None),\n",
       " 'stars': Value(dtype='int32', id=None),\n",
       " 'review_body': Value(dtype='string', id=None),\n",
       " 'review_title': Value(dtype='string', id=None),\n",
       " 'language': Value(dtype='string', id=None),\n",
       " 'product_category': Value(dtype='string', id=None)}"
      ]
     },
     "execution_count": 13,
     "metadata": {},
     "output_type": "execute_result"
    }
   ],
   "source": [
    "# Get features\n",
    "en_features = loader_en.inspectdatafeatures()\n",
    "en_features"
   ]
  },
  {
   "cell_type": "code",
   "execution_count": 14,
   "metadata": {},
   "outputs": [
    {
     "name": "stderr",
     "output_type": "stream",
     "text": [
      "Found cached dataset amazon_reviews_multi (/home/jds98/.cache/huggingface/datasets/amazon_reviews_multi/en/1.0.0/724e94f4b0c6c405ce7e476a6c5ef4f87db30799ad49f765094cf9770e0f7609)\n"
     ]
    }
   ],
   "source": [
    "# Get data\n",
    "data_en = loader_en.getdata('train')"
   ]
  },
  {
   "cell_type": "code",
   "execution_count": 15,
   "metadata": {},
   "outputs": [
    {
     "name": "stdout",
     "output_type": "stream",
     "text": [
      "(200000, 8)\n"
     ]
    },
    {
     "data": {
      "text/html": [
       "<div>\n",
       "<style scoped>\n",
       "    .dataframe tbody tr th:only-of-type {\n",
       "        vertical-align: middle;\n",
       "    }\n",
       "\n",
       "    .dataframe tbody tr th {\n",
       "        vertical-align: top;\n",
       "    }\n",
       "\n",
       "    .dataframe thead th {\n",
       "        text-align: right;\n",
       "    }\n",
       "</style>\n",
       "<table border=\"1\" class=\"dataframe\">\n",
       "  <thead>\n",
       "    <tr style=\"text-align: right;\">\n",
       "      <th></th>\n",
       "      <th>review_id</th>\n",
       "      <th>product_id</th>\n",
       "      <th>reviewer_id</th>\n",
       "      <th>stars</th>\n",
       "      <th>review_body</th>\n",
       "      <th>review_title</th>\n",
       "      <th>language</th>\n",
       "      <th>product_category</th>\n",
       "    </tr>\n",
       "  </thead>\n",
       "  <tbody>\n",
       "    <tr>\n",
       "      <th>0</th>\n",
       "      <td>en_0964290</td>\n",
       "      <td>product_en_0740675</td>\n",
       "      <td>reviewer_en_0342986</td>\n",
       "      <td>1</td>\n",
       "      <td>Arrived broken. Manufacturer defect. Two of th...</td>\n",
       "      <td>I'll spend twice the amount of time boxing up ...</td>\n",
       "      <td>en</td>\n",
       "      <td>furniture</td>\n",
       "    </tr>\n",
       "    <tr>\n",
       "      <th>1</th>\n",
       "      <td>en_0690095</td>\n",
       "      <td>product_en_0440378</td>\n",
       "      <td>reviewer_en_0133349</td>\n",
       "      <td>1</td>\n",
       "      <td>the cabinet dot were all detached from backing...</td>\n",
       "      <td>Not use able</td>\n",
       "      <td>en</td>\n",
       "      <td>home_improvement</td>\n",
       "    </tr>\n",
       "    <tr>\n",
       "      <th>2</th>\n",
       "      <td>en_0311558</td>\n",
       "      <td>product_en_0399702</td>\n",
       "      <td>reviewer_en_0152034</td>\n",
       "      <td>1</td>\n",
       "      <td>I received my first order of this product and ...</td>\n",
       "      <td>The product is junk.</td>\n",
       "      <td>en</td>\n",
       "      <td>home</td>\n",
       "    </tr>\n",
       "    <tr>\n",
       "      <th>3</th>\n",
       "      <td>en_0044972</td>\n",
       "      <td>product_en_0444063</td>\n",
       "      <td>reviewer_en_0656967</td>\n",
       "      <td>1</td>\n",
       "      <td>This product is a piece of shit. Do not buy. D...</td>\n",
       "      <td>Fucking waste of money</td>\n",
       "      <td>en</td>\n",
       "      <td>wireless</td>\n",
       "    </tr>\n",
       "    <tr>\n",
       "      <th>4</th>\n",
       "      <td>en_0784379</td>\n",
       "      <td>product_en_0139353</td>\n",
       "      <td>reviewer_en_0757638</td>\n",
       "      <td>1</td>\n",
       "      <td>went through 3 in one day doesn't fit correct ...</td>\n",
       "      <td>bubble</td>\n",
       "      <td>en</td>\n",
       "      <td>pc</td>\n",
       "    </tr>\n",
       "  </tbody>\n",
       "</table>\n",
       "</div>"
      ],
      "text/plain": [
       "    review_id          product_id          reviewer_id  stars  \\\n",
       "0  en_0964290  product_en_0740675  reviewer_en_0342986      1   \n",
       "1  en_0690095  product_en_0440378  reviewer_en_0133349      1   \n",
       "2  en_0311558  product_en_0399702  reviewer_en_0152034      1   \n",
       "3  en_0044972  product_en_0444063  reviewer_en_0656967      1   \n",
       "4  en_0784379  product_en_0139353  reviewer_en_0757638      1   \n",
       "\n",
       "                                         review_body  \\\n",
       "0  Arrived broken. Manufacturer defect. Two of th...   \n",
       "1  the cabinet dot were all detached from backing...   \n",
       "2  I received my first order of this product and ...   \n",
       "3  This product is a piece of shit. Do not buy. D...   \n",
       "4  went through 3 in one day doesn't fit correct ...   \n",
       "\n",
       "                                        review_title language  \\\n",
       "0  I'll spend twice the amount of time boxing up ...       en   \n",
       "1                                       Not use able       en   \n",
       "2                               The product is junk.       en   \n",
       "3                             Fucking waste of money       en   \n",
       "4                                             bubble       en   \n",
       "\n",
       "   product_category  \n",
       "0         furniture  \n",
       "1  home_improvement  \n",
       "2              home  \n",
       "3          wireless  \n",
       "4                pc  "
      ]
     },
     "execution_count": 15,
     "metadata": {},
     "output_type": "execute_result"
    }
   ],
   "source": [
    "df2 = data_en.to_pandas()\n",
    "print(df2.shape)\n",
    "df2.head()"
   ]
  },
  {
   "cell_type": "code",
   "execution_count": 16,
   "metadata": {},
   "outputs": [],
   "source": [
    "df2.to_csv('../data/source/english.csv', index=False)"
   ]
  },
  {
   "attachments": {},
   "cell_type": "markdown",
   "metadata": {},
   "source": [
    "### Sampling"
   ]
  },
  {
   "cell_type": "code",
   "execution_count": 17,
   "metadata": {},
   "outputs": [],
   "source": [
    "def n_sampling(df:pd.DataFrame, nb):\n",
    "    \"\"\"\n",
    "    Sample a dataframe based on given conditions\n",
    "    \"\"\"\n",
    "    dataset = pd.DataFrame()\n",
    "    for score in df.stars.value_counts().index:\n",
    "        mask = df.stars == score\n",
    "        sample = shuffle(df[mask], random_state=1).sample(nb)\n",
    "        dataset = pd.concat([dataset, sample])\n",
    "    \n",
    "    dataset = shuffle(dataset)\n",
    "    return dataset"
   ]
  },
  {
   "cell_type": "code",
   "execution_count": 18,
   "metadata": {},
   "outputs": [],
   "source": [
    "df1 = n_sampling(df1, 2000)\n",
    "df2 = n_sampling(df2, 2000)\n",
    "\n",
    "df = pd.concat([df1, df2])\n",
    "df = shuffle(df)\n",
    "\n",
    "df.to_csv('../data/source/merged_dataset.csv', index=False)"
   ]
  },
  {
   "attachments": {},
   "cell_type": "markdown",
   "metadata": {},
   "source": [
    "### Data Understanding and cleaning"
   ]
  },
  {
   "cell_type": "code",
   "execution_count": 19,
   "metadata": {},
   "outputs": [],
   "source": [
    "def wrangle(filepath):\n",
    "\n",
    "    df = pd.read_csv(filepath)\n",
    "    df.drop(columns=['review_id', 'product_id', 'reviewer_id'], inplace=True)\n",
    "\n",
    "    return df"
   ]
  },
  {
   "cell_type": "code",
   "execution_count": 20,
   "metadata": {},
   "outputs": [],
   "source": [
    "df = wrangle('../data/source/merged_dataset.csv')"
   ]
  },
  {
   "cell_type": "code",
   "execution_count": 21,
   "metadata": {},
   "outputs": [
    {
     "data": {
      "text/plain": [
       "(20000, 5)"
      ]
     },
     "execution_count": 21,
     "metadata": {},
     "output_type": "execute_result"
    }
   ],
   "source": [
    "df.shape"
   ]
  },
  {
   "cell_type": "code",
   "execution_count": 22,
   "metadata": {},
   "outputs": [
    {
     "data": {
      "text/html": [
       "<div>\n",
       "<style scoped>\n",
       "    .dataframe tbody tr th:only-of-type {\n",
       "        vertical-align: middle;\n",
       "    }\n",
       "\n",
       "    .dataframe tbody tr th {\n",
       "        vertical-align: top;\n",
       "    }\n",
       "\n",
       "    .dataframe thead th {\n",
       "        text-align: right;\n",
       "    }\n",
       "</style>\n",
       "<table border=\"1\" class=\"dataframe\">\n",
       "  <thead>\n",
       "    <tr style=\"text-align: right;\">\n",
       "      <th></th>\n",
       "      <th>stars</th>\n",
       "      <th>review_body</th>\n",
       "      <th>review_title</th>\n",
       "      <th>language</th>\n",
       "      <th>product_category</th>\n",
       "    </tr>\n",
       "  </thead>\n",
       "  <tbody>\n",
       "    <tr>\n",
       "      <th>0</th>\n",
       "      <td>4</td>\n",
       "      <td>Works good, had to cut the bottom ring because...</td>\n",
       "      <td>Its nice</td>\n",
       "      <td>en</td>\n",
       "      <td>home_improvement</td>\n",
       "    </tr>\n",
       "    <tr>\n",
       "      <th>1</th>\n",
       "      <td>2</td>\n",
       "      <td>As amazing as these charge very quickly. I hav...</td>\n",
       "      <td>As amazing as these charge very quickly</td>\n",
       "      <td>en</td>\n",
       "      <td>wireless</td>\n",
       "    </tr>\n",
       "    <tr>\n",
       "      <th>2</th>\n",
       "      <td>5</td>\n",
       "      <td>Parfait pour remplir une piñata et les sachets...</td>\n",
       "      <td>Très bon rapport qualité prix</td>\n",
       "      <td>fr</td>\n",
       "      <td>toy</td>\n",
       "    </tr>\n",
       "    <tr>\n",
       "      <th>3</th>\n",
       "      <td>4</td>\n",
       "      <td>Article conforme à la description parfait pour...</td>\n",
       "      <td>Top</td>\n",
       "      <td>fr</td>\n",
       "      <td>apparel</td>\n",
       "    </tr>\n",
       "    <tr>\n",
       "      <th>4</th>\n",
       "      <td>4</td>\n",
       "      <td>Used for decor in my wedding &amp; really loved th...</td>\n",
       "      <td>Used for decor in my wedding &amp; really loved th...</td>\n",
       "      <td>en</td>\n",
       "      <td>lawn_and_garden</td>\n",
       "    </tr>\n",
       "  </tbody>\n",
       "</table>\n",
       "</div>"
      ],
      "text/plain": [
       "   stars                                        review_body  \\\n",
       "0      4  Works good, had to cut the bottom ring because...   \n",
       "1      2  As amazing as these charge very quickly. I hav...   \n",
       "2      5  Parfait pour remplir une piñata et les sachets...   \n",
       "3      4  Article conforme à la description parfait pour...   \n",
       "4      4  Used for decor in my wedding & really loved th...   \n",
       "\n",
       "                                        review_title language  \\\n",
       "0                                           Its nice       en   \n",
       "1            As amazing as these charge very quickly       en   \n",
       "2                      Très bon rapport qualité prix       fr   \n",
       "3                                                Top       fr   \n",
       "4  Used for decor in my wedding & really loved th...       en   \n",
       "\n",
       "   product_category  \n",
       "0  home_improvement  \n",
       "1          wireless  \n",
       "2               toy  \n",
       "3           apparel  \n",
       "4   lawn_and_garden  "
      ]
     },
     "execution_count": 22,
     "metadata": {},
     "output_type": "execute_result"
    }
   ],
   "source": [
    "df.head()"
   ]
  },
  {
   "cell_type": "code",
   "execution_count": 23,
   "metadata": {},
   "outputs": [
    {
     "data": {
      "text/plain": [
       "Index(['stars', 'review_body', 'review_title', 'language', 'product_category'], dtype='object')"
      ]
     },
     "execution_count": 23,
     "metadata": {},
     "output_type": "execute_result"
    }
   ],
   "source": [
    "df.columns"
   ]
  },
  {
   "cell_type": "code",
   "execution_count": 24,
   "metadata": {},
   "outputs": [
    {
     "data": {
      "text/plain": [
       "stars               0\n",
       "review_body         0\n",
       "review_title        0\n",
       "language            0\n",
       "product_category    0\n",
       "dtype: int64"
      ]
     },
     "execution_count": 24,
     "metadata": {},
     "output_type": "execute_result"
    }
   ],
   "source": [
    "df.isnull().sum()"
   ]
  },
  {
   "cell_type": "code",
   "execution_count": 25,
   "metadata": {},
   "outputs": [
    {
     "name": "stdout",
     "output_type": "stream",
     "text": [
      "<class 'pandas.core.frame.DataFrame'>\n",
      "RangeIndex: 20000 entries, 0 to 19999\n",
      "Data columns (total 5 columns):\n",
      " #   Column            Non-Null Count  Dtype \n",
      "---  ------            --------------  ----- \n",
      " 0   stars             20000 non-null  int64 \n",
      " 1   review_body       20000 non-null  object\n",
      " 2   review_title      20000 non-null  object\n",
      " 3   language          20000 non-null  object\n",
      " 4   product_category  20000 non-null  object\n",
      "dtypes: int64(1), object(4)\n",
      "memory usage: 781.4+ KB\n"
     ]
    }
   ],
   "source": [
    "df.info()"
   ]
  },
  {
   "cell_type": "code",
   "execution_count": 27,
   "metadata": {},
   "outputs": [
    {
     "data": {
      "text/plain": [
       "1"
      ]
     },
     "execution_count": 27,
     "metadata": {},
     "output_type": "execute_result"
    }
   ],
   "source": [
    "df.duplicated().sum()"
   ]
  },
  {
   "cell_type": "code",
   "execution_count": 28,
   "metadata": {},
   "outputs": [],
   "source": [
    "df.to_csv('../data/cleaned/dataset.csv', index=False)"
   ]
  },
  {
   "cell_type": "code",
   "execution_count": null,
   "metadata": {},
   "outputs": [],
   "source": []
  }
 ],
 "metadata": {
  "kernelspec": {
   "display_name": "Python 3 (ipykernel)",
   "language": "python",
   "name": "python3"
  },
  "language_info": {
   "codemirror_mode": {
    "name": "ipython",
    "version": 3
   },
   "file_extension": ".py",
   "mimetype": "text/x-python",
   "name": "python",
   "nbconvert_exporter": "python",
   "pygments_lexer": "ipython3",
   "version": "3.10.6"
  }
 },
 "nbformat": 4,
 "nbformat_minor": 2
}
